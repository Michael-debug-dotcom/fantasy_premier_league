{
 "cells": [
  {
   "cell_type": "code",
   "execution_count": 15,
   "metadata": {},
   "outputs": [],
   "source": [
    "# Import required libraries\n",
    "import requests\n",
    "import pandas as pd\n",
    "from sklearn.ensemble import RandomForestRegressor\n",
    "from sklearn.model_selection import train_test_split\n",
    "from sklearn.metrics import mean_squared_error, r2_score\n",
    "import time"
   ]
  },
  {
   "cell_type": "code",
   "execution_count": 16,
   "metadata": {},
   "outputs": [],
   "source": [
    "# Function to get data from FPL API\n",
    "def get_fpl_data(endpoint):\n",
    "    url = f\"https://fantasy.premierleague.com/api/{endpoint}/\"\n",
    "    response = requests.get(url)\n",
    "    if response.status_code == 200:\n",
    "        return response.json()\n",
    "    else:\n",
    "        print(f\"Failed to retrieve data from {url}\")\n",
    "        return {}\n",
    "\n",
    "# Extracting general information (bootstrap-static)\n",
    "bootstrap_data = get_fpl_data(\"bootstrap-static\")"
   ]
  },
  {
   "cell_type": "code",
   "execution_count": 17,
   "metadata": {},
   "outputs": [],
   "source": [
    "# Convert data to DataFrames\n",
    "players_df = pd.DataFrame(bootstrap_data.get('elements', []))\n",
    "teams_df = pd.DataFrame(bootstrap_data.get('teams', []))\n",
    "positions_df = pd.DataFrame(bootstrap_data.get('element_types', []))\n",
    "events_df = pd.DataFrame(bootstrap_data.get('events', []))"
   ]
  },
  {
   "cell_type": "code",
   "execution_count": 18,
   "metadata": {},
   "outputs": [],
   "source": [
    "# Function to get historical data for each player (element-summary)\n",
    "def get_player_history(player_id):\n",
    "    endpoint = f\"element-summary/{player_id}/\"\n",
    "    time.sleep(0.1)  # Add a slight delay to avoid hitting API limits\n",
    "    return get_fpl_data(endpoint)\n",
    "\n",
    "# Extracting historical data for each player\n",
    "player_histories = []\n",
    "for player_id in players_df['id'].unique():\n",
    "    player_hist = get_player_history(player_id)\n",
    "    if player_hist:  # Only append if the data is valid\n",
    "        history = pd.DataFrame(player_hist.get('history', []))\n",
    "        history['player_id'] = player_id\n",
    "        player_histories.append(history)\n",
    "\n",
    "# Combine all player histories into one DataFrame\n",
    "player_hist_df = pd.concat(player_histories, ignore_index=True)"
   ]
  },
  {
   "cell_type": "code",
   "execution_count": 19,
   "metadata": {},
   "outputs": [],
   "source": [
    "# Merge player stats with team and position information\n",
    "players_df = players_df.merge(teams_df[['id', 'name']], left_on='team', right_on='id', suffixes=('', '_team'))\n",
    "players_df = players_df.merge(positions_df[['id', 'singular_name']], left_on='element_type', right_on='id', suffixes=('', '_position'))"
   ]
  },
  {
   "cell_type": "code",
   "execution_count": 20,
   "metadata": {},
   "outputs": [],
   "source": [
    "# Example current team performance DataFrame\n",
    "team_performance_df = pd.DataFrame({\n",
    "    'team': ['Arsenal', 'Aston Villa', 'Bournemouth', 'Brentford', 'Brighton', \n",
    "             'Chelsea', 'Crystal Palace', 'Everton', 'Fulham', 'Liverpool', \n",
    "             'Luton Town', 'Manchester City', 'Manchester United', 'Newcastle', \n",
    "             'Nottingham Forest', 'Sheffield United', 'Tottenham', 'West Ham', \n",
    "             'Wolverhampton'],\n",
    "    'last_5_avg_goals': [2.0, 1.5, 1.2, 1.0, 1.8, 1.3, 0.8, 1.0, 1.5, 2.2, \n",
    "                         1.1, 2.5, 1.7, 2.0, 1.4, 1.0, 1.8, 2.0, 1.6],  # Average goals scored in last 5 games\n",
    "    'last_5_avg_conceded': [1.0, 2.5, 2.0, 1.8, 1.5, 2.2, 1.4, 2.0, 1.7, \n",
    "                            1.0, 2.1, 0.9, 1.5, 1.2, 2.0, 1.8, 1.0, 1.5, 1.2]  # Average goals conceded in last 5 games\n",
    "})"
   ]
  },
  {
   "cell_type": "code",
   "execution_count": 21,
   "metadata": {},
   "outputs": [],
   "source": [
    "# Example injury data DataFrame\n",
    "injury_data_df = pd.DataFrame({\n",
    "    'team': ['Arsenal', 'Aston Villa', 'Bournemouth', 'Brentford', 'Brighton', \n",
    "             'Chelsea', 'Crystal Palace', 'Everton', 'Fulham', 'Liverpool', \n",
    "             'Luton Town', 'Manchester City', 'Manchester United', 'Newcastle', \n",
    "             'Nottingham Forest', 'Sheffield United', 'Tottenham', 'West Ham', \n",
    "             'Wolverhampton'],\n",
    "    'injury_count': [1, 2, 0, 1, 2, 0, 3, 1, 0, 1, 2, 0, 1, 0, 1, 0, 0, 1, 2],  # Number of starting players injured\n",
    "    'injured_player_names': [['Player A'], ['Player B', 'Player C'], [], \n",
    "                             ['Player D'], ['Player E', 'Player F'], [], \n",
    "                             ['Player G'], ['Player H'], [], ['Player I'], \n",
    "                             ['Player J'], [], ['Player K'], [], \n",
    "                             ['Player L'], [], ['Player M'], \n",
    "                             ['Player N'], ['Player O']]\n",
    "})"
   ]
  },
  {
   "cell_type": "code",
   "execution_count": 22,
   "metadata": {},
   "outputs": [],
   "source": [
    "# Merge team performance data\n",
    "players_df = players_df.merge(team_performance_df, how='left', left_on='name', right_on='team')\n",
    "\n",
    "# Merge injury data\n",
    "players_df = players_df.merge(injury_data_df, how='left', left_on='name', right_on='team')"
   ]
  },
  {
   "cell_type": "code",
   "execution_count": 23,
   "metadata": {},
   "outputs": [],
   "source": [
    "# Select relevant columns for training\n",
    "player_hist_df = player_hist_df[['player_id', 'total_points', 'minutes', 'goals_scored', \n",
    "                                  'assists', 'clean_sheets', 'goals_conceded', \n",
    "                                  'saves', 'yellow_cards', 'red_cards', 'bonus', \n",
    "                                  'bps', 'round']]\n",
    "\n",
    "# Merge player history with player info, ensuring we keep first_name and second_name\n",
    "train_df = player_hist_df.merge(players_df[['id', 'name', 'singular_name', \n",
    "                                             'first_name', 'second_name',  # Add these columns\n",
    "                                             'last_5_avg_goals', 'last_5_avg_conceded', \n",
    "                                             'injury_count']], left_on='player_id', \n",
    "                                 right_on='id')"
   ]
  },
  {
   "cell_type": "code",
   "execution_count": 24,
   "metadata": {},
   "outputs": [],
   "source": [
    "# Handle missing data by filling with zeros or mean as needed\n",
    "train_df.fillna(0, inplace=True)"
   ]
  },
  {
   "cell_type": "code",
   "execution_count": 25,
   "metadata": {},
   "outputs": [],
   "source": [
    "# Encode positions as numeric values (GK=1, DEF=2, MID=3, FWD=4)\n",
    "train_df['position_encoded'] = train_df['singular_name'].map({'Goalkeeper': 1, 'Defender': 2, 'Midfielder': 3, 'Forward': 4})\n",
    "\n",
    "# Feature selection: Player stats, position, fixture difficulty, team performance, and injuries\n",
    "features = ['minutes', 'goals_scored', 'assists', 'clean_sheets', 'goals_conceded', \n",
    "            'saves', 'yellow_cards', 'red_cards', 'bonus', 'bps', 'position_encoded', \n",
    "            'last_5_avg_goals', 'last_5_avg_conceded', 'injury_count']\n",
    "target = 'total_points'"
   ]
  },
  {
   "cell_type": "code",
   "execution_count": 26,
   "metadata": {},
   "outputs": [
    {
     "name": "stdout",
     "output_type": "stream",
     "text": [
      "Mean Squared Error: 0.15228514851485145\n",
      "R^2 Score: 0.9762503095775386\n"
     ]
    }
   ],
   "source": [
    "# Split data into training and testing sets (use data pre-24/25 as training, 24/25 season as test)\n",
    "train_df = train_df[train_df['round'] < 24]  # Train data before 24/25 season\n",
    "X_train, X_test, y_train, y_test = train_test_split(train_df[features], train_df[target], test_size=0.2, random_state=42)\n",
    "\n",
    "# Train a RandomForestRegressor\n",
    "model = RandomForestRegressor(n_estimators=100, random_state=42)\n",
    "model.fit(X_train, y_train)\n",
    "\n",
    "# Test the model on the test set\n",
    "y_pred = model.predict(X_test)\n",
    "\n",
    "# Evaluate the model\n",
    "mse = mean_squared_error(y_test, y_pred)\n",
    "r2 = r2_score(y_test, y_pred)\n",
    "\n",
    "# Output evaluation results\n",
    "print(\"Mean Squared Error:\", mse)\n",
    "print(\"R^2 Score:\", r2)"
   ]
  },
  {
   "cell_type": "code",
   "execution_count": 27,
   "metadata": {},
   "outputs": [],
   "source": [
    "# Recommend top players per position for the upcoming gameweeks with aggregation\n",
    "def recommend_top_players(model, data, position, top_n=5):\n",
    "    position_encoded = {'Goalkeeper': 1, 'Defender': 2, 'Midfielder': 3, 'Forward': 4}[position]\n",
    "    position_data = data[data['position_encoded'] == position_encoded].copy()\n",
    "    \n",
    "    # Predict points\n",
    "    position_data['predicted_points'] = model.predict(position_data[features])\n",
    "    \n",
    "    # Aggregate predicted points for unique players\n",
    "    aggregated_data = position_data.groupby(['first_name', 'second_name']).agg({'predicted_points': 'mean'}).reset_index()\n",
    "    \n",
    "    # Create full name column\n",
    "    aggregated_data['full_name'] = aggregated_data['first_name'] + ' ' + aggregated_data['second_name']\n",
    "    \n",
    "    # Sort and get top N players\n",
    "    top_players = aggregated_data.sort_values('predicted_points', ascending=False).head(top_n)\n",
    "    \n",
    "    return top_players[['full_name', 'predicted_points']]\n",
    "\n",
    "# Get top 5 players for each position\n",
    "top_goalkeepers = recommend_top_players(model, train_df, 'Goalkeeper')\n",
    "top_defenders = recommend_top_players(model, train_df, 'Defender')\n",
    "top_midfielders = recommend_top_players(model, train_df, 'Midfielder')\n",
    "top_forwards = recommend_top_players(model, train_df, 'Forward')"
   ]
  },
  {
   "cell_type": "code",
   "execution_count": 28,
   "metadata": {},
   "outputs": [],
   "source": [
    "# Team Rating Calculation\n",
    "def calculate_team_rating(team_performance_df, injury_data_df):\n",
    "    # Calculate performance rating for each team\n",
    "    team_performance_df['performance_rating'] = (\n",
    "        team_performance_df['last_5_avg_goals'] - team_performance_df['last_5_avg_conceded'] - injury_data_df['injury_count']\n",
    "    )\n",
    "    \n",
    "    # Sort teams by performance rating and get top 5\n",
    "    top_teams = team_performance_df.sort_values('performance_rating', ascending=False).head(5)\n",
    "    return top_teams[['team', 'performance_rating']]\n",
    "\n",
    "# Get top 5 teams\n",
    "top_teams = calculate_team_rating(team_performance_df, injury_data_df)"
   ]
  },
  {
   "cell_type": "code",
   "execution_count": 29,
   "metadata": {},
   "outputs": [
    {
     "name": "stdout",
     "output_type": "stream",
     "text": [
      "Top Goalkeepers:\n",
      "                full_name  predicted_points\n",
      "7             André Onana          5.355714\n",
      "21      David Raya Martin          5.102857\n",
      "55         Robert Sánchez          4.997143\n",
      "4   Alisson Ramses Becker          4.987143\n",
      "50              Nick Pope          4.260000\n",
      "\n",
      "Top Defenders:\n",
      "                        full_name  predicted_points\n",
      "202        Trent Alexander-Arnold          6.012857\n",
      "65                Ibrahima Konaté          5.332857\n",
      "210               Virgil van Dijk          5.134286\n",
      "46           Diogo Dalot Teixeira          5.121429\n",
      "57   Gabriel dos Santos Magalhães          5.068571\n",
      "\n",
      "Top Midfielders:\n",
      "         full_name  predicted_points\n",
      "59     Cole Palmer          9.320000\n",
      "217  Mohamed Salah          8.498571\n",
      "43     Bukayo Saka          8.450000\n",
      "42    Bryan Mbeumo          7.841429\n",
      "186      Luis Díaz          7.077143\n",
      "\n",
      "Top Forwards:\n",
      "          full_name  predicted_points\n",
      "23   Erling Haaland         10.048571\n",
      "54  Nicolas Jackson          6.211429\n",
      "43      Kai Havertz          5.785714\n",
      "13    Danny Welbeck          5.734286\n",
      "57    Ollie Watkins          5.712857\n",
      "\n",
      "Top 5 Teams Based on Performance Rating:\n",
      "               team  performance_rating\n",
      "11  Manchester City                 1.6\n",
      "16        Tottenham                 0.8\n",
      "13        Newcastle                 0.8\n",
      "9         Liverpool                 0.2\n",
      "0           Arsenal                 0.0\n"
     ]
    }
   ],
   "source": [
    "# Output top players and top teams\n",
    "print(\"Top Goalkeepers:\")\n",
    "print(top_goalkeepers)\n",
    "\n",
    "print(\"\\nTop Defenders:\")\n",
    "print(top_defenders)\n",
    "\n",
    "print(\"\\nTop Midfielders:\")\n",
    "print(top_midfielders)\n",
    "\n",
    "print(\"\\nTop Forwards:\")\n",
    "print(top_forwards)\n",
    "\n",
    "print(\"\\nTop 5 Teams Based on Performance Rating:\")\n",
    "print(top_teams)"
   ]
  }
 ],
 "metadata": {
  "kernelspec": {
   "display_name": "Python 3",
   "language": "python",
   "name": "python3"
  },
  "language_info": {
   "codemirror_mode": {
    "name": "ipython",
    "version": 3
   },
   "file_extension": ".py",
   "mimetype": "text/x-python",
   "name": "python",
   "nbconvert_exporter": "python",
   "pygments_lexer": "ipython3",
   "version": "3.11.4"
  }
 },
 "nbformat": 4,
 "nbformat_minor": 2
}
